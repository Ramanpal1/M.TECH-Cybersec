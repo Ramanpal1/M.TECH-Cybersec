{
 "cells": [
  {
   "cell_type": "code",
   "execution_count": 3,
   "id": "ebbcc966",
   "metadata": {},
   "outputs": [],
   "source": [
    "import numpy as np\n",
    "import pandas as pd"
   ]
  },
  {
   "cell_type": "code",
   "execution_count": 4,
   "id": "d06af518",
   "metadata": {},
   "outputs": [
    {
     "name": "stdout",
     "output_type": "stream",
     "text": [
      "    Number Name  Percentage\n",
      "0        1   AB          80\n",
      "1        2   AC          85\n",
      "2        3   AD          70\n",
      "3        4   AE          78\n",
      "4        5   AF          60\n",
      "5        6   AJ          75\n",
      "6        7   BA          65\n",
      "7        8   BB          64\n",
      "8        9   BD          77\n",
      "9       10   BE          98\n",
      "10      11   BF          53\n",
      "11      12   BG          55\n",
      "12      13   BH          68\n",
      "13      14   CD          87\n",
      "14      15   CC          89\n",
      "15      16   CM          61\n",
      "16      17   CJ          67\n",
      "17      18   MB          90\n",
      "18      19   MN          95\n",
      "19      20   MS          91\n"
     ]
    }
   ],
   "source": [
    "df=pd.read_csv(\"first.csv\")\n",
    "print(df)"
   ]
  },
  {
   "cell_type": "code",
   "execution_count": 5,
   "id": "23fb8a91",
   "metadata": {},
   "outputs": [
    {
     "name": "stdout",
     "output_type": "stream",
     "text": [
      "    Number Name  Percentage\n",
      "18      19   MN          95\n",
      "19      20   MS          91\n",
      "########### INDEX #################\n",
      "RangeIndex(start=0, stop=20, step=1)\n",
      "########### Columns #################\n",
      "Index(['Number', 'Name', 'Percentage'], dtype='object')\n",
      "########### Describe #################\n",
      "         Number  Percentage\n",
      "count  20.00000   20.000000\n",
      "mean   10.50000   75.400000\n",
      "std     5.91608   13.666709\n",
      "min     1.00000   53.000000\n",
      "25%     5.75000   64.750000\n",
      "50%    10.50000   76.000000\n",
      "75%    15.25000   87.500000\n",
      "max    20.00000   98.000000\n",
      "########### Sort In Ascending #################\n",
      "    Number Name  Percentage\n",
      "9       10   BE          98\n",
      "18      19   MN          95\n",
      "19      20   MS          91\n",
      "17      18   MB          90\n",
      "14      15   CC          89\n",
      "13      14   CD          87\n",
      "1        2   AC          85\n",
      "0        1   AB          80\n",
      "3        4   AE          78\n",
      "8        9   BD          77\n",
      "5        6   AJ          75\n",
      "2        3   AD          70\n",
      "12      13   BH          68\n",
      "16      17   CJ          67\n",
      "6        7   BA          65\n",
      "7        8   BB          64\n",
      "15      16   CM          61\n",
      "4        5   AF          60\n",
      "11      12   BG          55\n",
      "10      11   BF          53\n",
      "########### Transpose #################\n",
      "            0   1   2   3   4   5   6   7   8   9   10  11  12  13  14  15  \\\n",
      "Number       1   2   3   4   5   6   7   8   9  10  11  12  13  14  15  16   \n",
      "Name        AB  AC  AD  AE  AF  AJ  BA  BB  BD  BE  BF  BG  BH  CD  CC  CM   \n",
      "Percentage  80  85  70  78  60  75  65  64  77  98  53  55  68  87  89  61   \n",
      "\n",
      "            16  17  18  19  \n",
      "Number      17  18  19  20  \n",
      "Name        CJ  MB  MN  MS  \n",
      "Percentage  67  90  95  91  \n"
     ]
    }
   ],
   "source": [
    "print(df.tail(2))\n",
    "print(\"########### INDEX #################\")\n",
    "print(df.index)\n",
    "print(\"########### Columns #################\")\n",
    "print(df.columns)\n",
    "print(\"########### Describe #################\")\n",
    "print(df.describe())\n",
    "print(\"########### Sort In Ascending #################\")\n",
    "print(df.sort_values(by=\"Percentage\",ascending=False))\n",
    "print(\"########### Transpose #################\")\n",
    "print(df.T)\n"
   ]
  },
  {
   "cell_type": "code",
   "execution_count": null,
   "id": "30e3b419",
   "metadata": {},
   "outputs": [],
   "source": []
  }
 ],
 "metadata": {
  "kernelspec": {
   "display_name": "Python 3 (ipykernel)",
   "language": "python",
   "name": "python3"
  },
  "language_info": {
   "codemirror_mode": {
    "name": "ipython",
    "version": 3
   },
   "file_extension": ".py",
   "mimetype": "text/x-python",
   "name": "python",
   "nbconvert_exporter": "python",
   "pygments_lexer": "ipython3",
   "version": "3.11.4"
  }
 },
 "nbformat": 4,
 "nbformat_minor": 5
}
